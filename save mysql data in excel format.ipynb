{
 "cells": [
  {
   "cell_type": "markdown",
   "metadata": {},
   "source": [
    "## Mysql python with output files "
   ]
  },
  {
   "cell_type": "code",
   "execution_count": null,
   "metadata": {},
   "outputs": [],
   "source": [
    "#We use mysql.connector to make a connection with the database\n",
    "import mysql.connector\n",
    "\n",
    "from xlsxwriter.workbook import Workbook\n",
    "#import workbook module from xlsxwriter.workbook to write this data in excel format\n",
    "#xlsxwriter is python module used for writing data in the excel sheet\n",
    "#by using xlsxwriter we import workbook it creates a simple spreadsheet to write data in this sheet a\n",
    "\n",
    "\n",
    "import csv\n",
    "#import csv module for dump data in csv format\n",
    "\n",
    "\n",
    "#fill the following details to conncet with your database\n",
    "mydb = mysql.connector.connect(\n",
    "  host=\"localhost\",\n",
    "  user=\"root\",  #enter your username \n",
    "  passwd=\"root\",#enter your password\n",
    "    database=\"mydatabase\"  #enter your database name\n",
    ")\n",
    "\n",
    "\n",
    "mycursor = mydb.cursor()\n",
    "#Define object by using objaect method\n",
    "\n",
    "query=\"SELECT * FROM 2013ECA\"\n",
    "#In this query we select a table from our database\n",
    "mycursor.execute(query)\n",
    "#query is executed\n",
    "myresult = mycursor.fetchall()\n",
    "#fetchall function used for extract whole data from the selected table\n",
    "\n",
    "\n",
    "column_names1 = [i[0] for i in mycursor.description]\n",
    "#description method is used to fetch name of the columns(attributes)\n",
    "#To extract all the column names by using for loop. \n",
    "\n",
    "column_names=tuple(column_names1)\n",
    "#we convert list into tuple by using tuple function.\n",
    "\n",
    "list1=[]\n",
    "#empty list\n",
    "\n",
    "list1.append(column_names)\n",
    "#In this empty list we add column_names by using append() method.\n",
    "\n",
    "for I in my result:\n",
    "    list1.append(i)\n",
    "#for loop is used to iterate for each row in a result(list) and append them into list1"
   ]
  },
  {
   "cell_type": "markdown",
   "metadata": {},
   "source": [
    "## Store data into csv format"
   ]
  },
  {
   "cell_type": "code",
   "execution_count": 10,
   "metadata": {},
   "outputs": [
    {
     "name": "stdout",
     "output_type": "stream",
     "text": [
      "<class '_csv.writer'>\n",
      "done\n"
     ]
    }
   ],
   "source": [
    "fp = open('DimDevice.csv', 'w',encoding='utf-8')\n",
    "#We used open method to open(DimDevice.csv),file it will create this file in your directory.\n",
    "#'w' stands for write operation and we used 'utf-8' encoding for global standard.\n",
    "myFile = csv.writer(fp, lineterminator = '\\n')\n",
    "# csv.writer is use to write in csv file and lineterminator split text where it found new line. \n",
    "myFile.writerow(column_names1)\n",
    "#Myfile object call writerow function to write column_name into csv file.\n",
    "myFile.writerows(myresult)\n",
    "#Similarly it write multiple details of myresult(list) into csv file.\n",
    "fp.close()\n",
    "#fp.close is use to close fp file that we open to write tables details.\n",
    "print('done')"
   ]
  },
  {
   "cell_type": "markdown",
   "metadata": {},
   "source": [
    "## Store data into excel format"
   ]
  },
  {
   "cell_type": "code",
   "execution_count": 3,
   "metadata": {},
   "outputs": [
    {
     "name": "stdout",
     "output_type": "stream",
     "text": [
      "done\n"
     ]
    }
   ],
   "source": [
    "workbook = Workbook('outfile.xlsx')\n",
    "#workbook is use to creat a spreadsheet that know as outfile.xlsx\n",
    "#you can name it whatever you want\n",
    "sheet = workbook.add_worksheet()\n",
    "#we create sheet object to call worksheet from workbook\n",
    "for r, row in enumerate(list1):\n",
    "    #enumerate used to map list1 values with its indexation number (for an exaple list[0]='apple',here r repersent:0 and row repersent :'apple')                            \n",
    "    for c, col in enumerate(row):\n",
    "        #enumurate fuction used again to map indexation with its value\n",
    "        sheet.write(r, c, col)\n",
    "        #sheet.write is used to write particular values(col) at location of r,c\n",
    "        \n",
    "print('done')\n"
   ]
  },
  {
   "cell_type": "code",
   "execution_count": null,
   "metadata": {},
   "outputs": [],
   "source": []
  }
 ],
 "metadata": {
  "kernelspec": {
   "display_name": "Python 3",
   "language": "python",
   "name": "python3"
  },
  "language_info": {
   "codemirror_mode": {
    "name": "ipython",
    "version": 3
   },
   "file_extension": ".py",
   "mimetype": "text/x-python",
   "name": "python",
   "nbconvert_exporter": "python",
   "pygments_lexer": "ipython3",
   "version": "3.5.2"
  }
 },
 "nbformat": 4,
 "nbformat_minor": 2
}
